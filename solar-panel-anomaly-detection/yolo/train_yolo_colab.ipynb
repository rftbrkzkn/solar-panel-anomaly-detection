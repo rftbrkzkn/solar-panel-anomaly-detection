{
  "nbformat": 4,
  "nbformat_minor": 0,
  "metadata": {
    "colab": {
      "private_outputs": true,
      "provenance": [],
      "gpuType": "T4"
    },
    "kernelspec": {
      "name": "python3",
      "display_name": "Python 3"
    },
    "language_info": {
      "name": "python"
    },
    "accelerator": "GPU"
  },
  "cells": [
    {
      "cell_type": "code",
      "execution_count": null,
      "metadata": {
        "id": "UiATjYuVUXWh"
      },
      "outputs": [],
      "source": [
        "pip install ultralytics"
      ]
    },
    {
      "cell_type": "code",
      "source": [
        "!pip install roboflow\n",
        "\n",
        "from roboflow import Roboflow\n",
        "rf = Roboflow(api_key=\"shyt4dCr6ZP2WGJPqaRj\")\n",
        "project = rf.workspace(\"deneme2412\").project(\"hotspot-detection-pvgeq\")\n",
        "version = project.version(1)\n",
        "dataset = version.download(\"yolov8\")"
      ],
      "metadata": {
        "id": "7u32N-2yU4_p"
      },
      "execution_count": null,
      "outputs": []
    },
    {
      "cell_type": "code",
      "source": [
        "from ultralytics import YOLO\n",
        "\n",
        "model = YOLO(\"yolov8m.pt\")  # Resmi model dosyası\n",
        "\n",
        "# 2. Eğitim parametrelerini düzelt\n",
        "model.train(\n",
        "    data=\"/content/HotSpot-Detection-1/data.yaml\",\n",
        "    epochs=100,          
        "    imgsz=640,           
        "    batch=8,             
        "    patience=20,         
        "    optimizer=\"AdamW\",   
        "    weight_decay=0.0005, 
        "    augment=True,        
        "    name=\"hotspot_exp1\"\n",
        ")"
      ],
      "metadata": {
        "id": "uIyjf9TKVMWS"
      },
      "execution_count": null,
      "outputs": []
    },
    {
      "cell_type": "code",
      "source": [
        "from ultralytics import YOLO\n",
        "from IPython.display import Image\n",
        "import matplotlib.pyplot as plt\n",
        "\n",
        "model = YOLO(\"/content/runs/detect/hotspot_exp1/weights/best.pt\")\n",
        "metrics = model.val()\n",
        "\n",
        "results_image = \"/content/runs/detect/hotspot_exp1/results.png\"\n",
        "Image(filename=results_image)\n"
      ],
      "metadata": {
        "id": "OxAy7rA1ziCx"
      },
      "execution_count": null,
      "outputs": []
    },
    {
      "cell_type": "code",
      "source": [
        "from ultralytics import YOLO\n",
        "from PIL import Image\n",
        "\n",
        "model = YOLO(\"/content/runs/detect/hotspot_exp1/weights/best.pt\")\n",
        "\n",
        "# Test etmek istediğin görselin yolunu yaz\n",
        "img_path = \"/content/1.jpg\"\n",
        "\n",
        "results = model(img_path)\n",
        "\n",
        "# Sonuçları çiz ve göster\n",
        "results[0].show()\n",
        "\n",
        "# Alternatif olarak matplotlib ile göstermek için:\n",
        "import matplotlib.pyplot as plt\n",
        "plt.imshow(results[0].plot())\n",
        "plt.axis('off')\n",
        "plt.show()\n"
      ],
      "metadata": {
        "id": "5wWshHRP0qLb"
      },
      "execution_count": null,
      "outputs": []
    },
    {
      "cell_type": "code",
      "source": [
        "# Sonuçları yeni bir dosyaya kaydet\n",
        "results[0].save(filename=\"/content/TestPics/test1_pred.png\")\n"
      ],
      "metadata": {
        "id": "F9xzBShs1Yvh"
      },
      "execution_count": null,
      "outputs": []
    },
    {
      "cell_type": "code",
      "source": [
        "from google.colab import files\n",
        "files.download('/content/runs/detect/hotspot_exp1/weights/best.pt')\n"
      ],
      "metadata": {
        "id": "sg_gz1yv1ukE"
      },
      "execution_count": null,
      "outputs": []
    }
  ]
}
