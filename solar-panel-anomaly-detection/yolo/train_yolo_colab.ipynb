{
  "nbformat": 4,
  "nbformat_minor": 0,
  "metadata": {
    "colab": {
      "provenance": [],
      "private_outputs": true,
      "gpuType": "T4"
    },
    "kernelspec": {
      "name": "python3",
      "display_name": "Python 3"
    },
    "language_info": {
      "name": "python"
    },
    "accelerator": "GPU"
  },
  "cells": [
    {
      "cell_type": "code",
      "source": [
        "pip install ultralytics"
      ],
      "metadata": {},
      "execution_count": null,
      "outputs": []
    },
    {
      "cell_type": "code",
      "source": [
        "!pip install roboflow\n",
        "from roboflow import Roboflow\n",
        "rf = Roboflow(api_key=\"shyt4dCr6ZP2WGJPqaRj\")\n",
        "project = rf.workspace(\"deneme2412\").project(\"hotspot-detection-pvgeq\")\n",
        "version = project.version(1)\n",
        "dataset = version.download(\"yolov8\")"
      ],
      "metadata": {},
      "execution_count": null,
      "outputs": []
    },
    {
      "cell_type": "code",
      "source": [
        "from ultralytics import YOLO\n",
        "model = YOLO(\"yolov8m.pt\")\n",
        "model.train(\n",
        "    data=\"/content/HotSpot-Detection-1/data.yaml\",\n",
        "    epochs=100,\n",
        "    imgsz=640,\n",
        "    batch=8,\n",
        "    patience=20,\n",
        "    optimizer=\"AdamW\",\n",
        "    weight_decay=0.0005,\n",
        "    augment=True,\n",
        "    name=\"hotspot_exp1\"\n",
        ")"
      ],
      "metadata": {},
      "execution_count": null,
      "outputs": []
    },
    {
      "cell_type": "code",
      "source": [
        "from ultralytics import YOLO\n",
        "from IPython.display import Image\n",
        "import matplotlib.pyplot as plt\n",
        "model = YOLO(\"/content/runs/detect/hotspot_exp1/weights/best.pt\")\n",
        "metrics = model.val()\n",
        "results_image = \"/content/runs/detect/hotspot_exp1/results.png\"\n",
        "Image(filename=results_image)"
      ],
      "metadata": {},
      "execution_count": null,
      "outputs": []
    },
    {
      "cell_type": "code",
      "source": [
        "from ultralytics import YOLO\n",
        "from PIL import Image\n",
        "model = YOLO(\"/content/runs/detect/hotspot_exp1/weights/best.pt\")\n",
        "img_path = \"/content/1.jpg\"\n",
        "results = model(img_path)\n",
        "results[0].show()\n",
        "import matplotlib.pyplot as plt\n",
        "plt.imshow(results[0].plot())\n",
        "plt.axis('off')\n",
        "plt.show()"
      ],
      "metadata": {},
      "execution_count": null,
      "outputs": []
    },
    {
      "cell_type": "code",
      "source": [
        "results[0].save(filename=\"/content/TestPics/test1_pred.png\")"
      ],
      "metadata": {},
      "execution_count": null,
      "outputs": []
    },
    {
      "cell_type": "code",
      "source": [
        "from google.colab import files\n",
        "files.download('/content/runs/detect/hotspot_exp1/weights/best.pt')"
      ],
      "metadata": {},
      "execution_count": null,
      "outputs": []
    }
  ]
}

